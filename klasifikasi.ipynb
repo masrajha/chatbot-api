{
 "cells": [
  {
   "cell_type": "code",
   "execution_count": 14,
   "id": "a9615b79",
   "metadata": {},
   "outputs": [],
   "source": [
    "from transformers import AutoModelForSequenceClassification, AutoTokenizer\n",
    "import json, torch\n",
    "from typing import Union, List  # Add this import\n"
   ]
  },
  {
   "cell_type": "code",
   "execution_count": 18,
   "id": "8910861f",
   "metadata": {},
   "outputs": [],
   "source": [
    "def load_model_classify(checkpoint_path):\n",
    "    # Load tokenizer dari model base\n",
    "    tokenizer = AutoTokenizer.from_pretrained(\"distilbert-base-multilingual-cased\")\n",
    "\n",
    "    # Load model dari checkpoint\n",
    "    model = AutoModelForSequenceClassification.from_pretrained(\n",
    "        checkpoint_path,\n",
    "        use_safetensors=True\n",
    "    )\n",
    "\n",
    "    # Load label mapping\n",
    "    with open(f\"{checkpoint_path}/config.json\") as f:\n",
    "        config = json.load(f)\n",
    "        id2label = config.get(\"id2label\", {})\n",
    "\n",
    "    device = torch.device(\"cuda\" if torch.cuda.is_available() else \"cpu\")\n",
    "    model = model.to(device)\n",
    "\n",
    "    return model, tokenizer, id2label, device"
   ]
  },
  {
   "cell_type": "code",
   "execution_count": 23,
   "id": "4c79d641",
   "metadata": {},
   "outputs": [],
   "source": [
    "\n",
    "\n",
    "def classify_intent(texts: Union[str, List[str]]):\n",
    "    # Handle single text input\n",
    "    if isinstance(texts, str):\n",
    "        texts = [texts]\n",
    "\n",
    "    # Tokenisasi batch\n",
    "    inputs = tokenizer(\n",
    "        texts,\n",
    "        return_tensors=\"pt\",\n",
    "        truncation=True,\n",
    "        padding=True,\n",
    "        max_length=128,\n",
    "        return_attention_mask=True\n",
    "    ).to(device)\n",
    "\n",
    "    # Prediksi batch\n",
    "    with torch.no_grad():\n",
    "        outputs = model(**inputs)\n",
    "\n",
    "    # Hitung probabilitas\n",
    "    probs = torch.nn.functional.softmax(outputs.logits, dim=-1)\n",
    "    confidences, pred_indices = torch.max(probs, dim=1)\n",
    "\n",
    "    results = []\n",
    "    for i, text in enumerate(texts):\n",
    "        predicted_label = id2label.get(str(pred_indices[i].item()), \"unknown\")\n",
    "        results.append({\n",
    "            \"text\": text,\n",
    "            \"intent\": predicted_label,\n",
    "            \"confidence\": confidences[i].item(),\n",
    "            \"details\": {id2label.get(str(j), str(j)): prob.item()\n",
    "                      for j, prob in enumerate(probs[i])}\n",
    "        })\n",
    "\n",
    "    return results if len(results) > 1 else results[0]\n"
   ]
  },
  {
   "cell_type": "code",
   "execution_count": 24,
   "id": "80b9d861",
   "metadata": {},
   "outputs": [
    {
     "name": "stdout",
     "output_type": "stream",
     "text": [
      "\n",
      "=== Hasil 1 ===\n",
      "Input: kapan saya bisa kompre?\n",
      "Intent: seminar (64.66%)\n",
      "Detail Probabilitas:\n",
      "  - kuliah: 35.34%\n",
      "  - seminar: 64.66%\n",
      "\n",
      "=== Hasil 2 ===\n",
      "Input: Pak Didik free hari apa?\n",
      "Intent: seminar (54.53%)\n",
      "Detail Probabilitas:\n",
      "  - kuliah: 45.47%\n",
      "  - seminar: 54.53%\n",
      "\n",
      "=== Hasil 3 ===\n",
      "Input: apakah pak Didik dan bu Anie bisa seminar hari senin?\n",
      "Intent: seminar (82.98%)\n",
      "Detail Probabilitas:\n",
      "  - kuliah: 17.02%\n",
      "  - seminar: 82.98%\n"
     ]
    }
   ],
   "source": [
    "CHECKPOINT_PATH = \"models/classification\"\n",
    "model, tokenizer, id2label, device = load_model_classify(CHECKPOINT_PATH)\n",
    "model.eval()\n",
    "\n",
    "test_texts = [\n",
    "\"kapan saya bisa kompre?\",\n",
    "\"Pak Didik free hari apa?\",\n",
    "\"apakah pak Didik dan bu Anie bisa seminar hari senin?\",\n",
    "]\n",
    "\n",
    "results = classify_intent(test_texts)\n",
    "\n",
    "for idx, result in enumerate(results, 1):\n",
    "  print(f\"\\n=== Hasil {idx} ===\")\n",
    "  print(f\"Input: {result['text']}\")\n",
    "  print(f\"Intent: {result['intent']} ({result['confidence']*100:.2f}%)\")\n",
    "  print(\"Detail Probabilitas:\")\n",
    "  for label, prob in result['details'].items():\n",
    "    print(f\"  - {label}: {prob*100:.2f}%\")\n"
   ]
  }
 ],
 "metadata": {
  "kernelspec": {
   "display_name": "chatbotAI-py39",
   "language": "python",
   "name": "python3"
  },
  "language_info": {
   "codemirror_mode": {
    "name": "ipython",
    "version": 3
   },
   "file_extension": ".py",
   "mimetype": "text/x-python",
   "name": "python",
   "nbconvert_exporter": "python",
   "pygments_lexer": "ipython3",
   "version": "3.9.21"
  }
 },
 "nbformat": 4,
 "nbformat_minor": 5
}
